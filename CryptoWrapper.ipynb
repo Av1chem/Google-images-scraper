{
  "nbformat": 4,
  "nbformat_minor": 0,
  "metadata": {
    "colab": {
      "name": "CryptoWrapper.ipynb",
      "provenance": [],
      "authorship_tag": "ABX9TyNu/0TJSTMghHbJlEsCnRxS",
      "include_colab_link": true
    },
    "kernelspec": {
      "name": "python3",
      "display_name": "Python 3"
    },
    "language_info": {
      "name": "python"
    }
  },
  "cells": [
    {
      "cell_type": "markdown",
      "metadata": {
        "id": "view-in-github",
        "colab_type": "text"
      },
      "source": [
        "<a href=\"https://colab.research.google.com/github/Av1chem/Google-images-scraper/blob/master/CryptoWrapper.ipynb\" target=\"_parent\"><img src=\"https://colab.research.google.com/assets/colab-badge.svg\" alt=\"Open In Colab\"/></a>"
      ]
    },
    {
      "cell_type": "markdown",
      "metadata": {
        "id": "sZ0am392Tffu"
      },
      "source": [
        "# Prerequisites"
      ]
    },
    {
      "cell_type": "code",
      "metadata": {
        "id": "vzGL7iWkRiC9"
      },
      "source": [
        "!pip install pycrypto requests"
      ],
      "execution_count": null,
      "outputs": []
    },
    {
      "cell_type": "code",
      "metadata": {
        "id": "m71VNjuSRmB3"
      },
      "source": [
        "import base64\n",
        "import binascii\n",
        "import json\n",
        "import uuid\n",
        "\n",
        "import requests\n",
        "from Crypto.Cipher import AES\n",
        "from Crypto.Protocol.KDF import PBKDF2\n",
        "from Crypto.Util.py3compat import *"
      ],
      "execution_count": null,
      "outputs": []
    },
    {
      "cell_type": "markdown",
      "metadata": {
        "id": "vf4apN3_Tqyl"
      },
      "source": [
        "# Definition"
      ]
    },
    {
      "cell_type": "code",
      "metadata": {
        "id": "SFPBdhwzR57r"
      },
      "source": [
        "class RequestsWrapperForBCBSMN:\n",
        "    def get(self, *args, **kwargs):\n",
        "        return requests.get(*args, **kwargs)\n",
        "\n",
        "    def post(self, url, json, *args, **kwargs):\n",
        "        json[\"key2id\"] = self.__tokens[\"key2id\"]\n",
        "        return self.__getDecrypted(\n",
        "            requests.post(\n",
        "                url=url,\n",
        "                json=self.__getEncrypted(json),\n",
        "                headers={\"uitxnid\": f\"WEB_v3.0_{uuid.uuid4()}\"},\n",
        "            ).json()[\"message\"]\n",
        "        )\n",
        "\n",
        "    def __init__(self, *args, **kwargs):\n",
        "        self.__tokens = requests.get(\n",
        "            \"https://mobilemember.bluecrossma.com/dglwebapi1/mobilekeyservice/v1/gettokens\"\n",
        "        ).json()\n",
        "\n",
        "    def __enter__(self):\n",
        "        return self\n",
        "\n",
        "    def __exit__(self, *args, **kwargs):\n",
        "        del self\n",
        "\n",
        "    ####\n",
        "    # Encryption/Decryption Logic\n",
        "    ####\n",
        "    # Missing pad function from Crypto\n",
        "    # https://github.com/pycrypto/pycrypto/blob/master/lib/Crypto/Util/Padding.py\n",
        "    # TODO: move to its own file\n",
        "    def __pad(self, data_to_pad, block_size, style=\"pkcs7\"):\n",
        "        \"\"\"Apply standard padding.\n",
        "        :Parameters:\n",
        "          data_to_pad : byte string\n",
        "            The data that needs to be padded.\n",
        "          block_size : integer\n",
        "            The block boundary to use for padding. The output length is guaranteed\n",
        "            to be a multiple of ``block_size``.\n",
        "          style : string\n",
        "            Padding algorithm. It can be *'pkcs7'* (default), *'iso7816'* or *'x923'*.\n",
        "        :Return:\n",
        "          The original data with the appropriate padding added at the end.\n",
        "        \"\"\"\n",
        "\n",
        "        padding_len = block_size - len(data_to_pad) % block_size\n",
        "        if style == \"pkcs7\":\n",
        "            padding = bchr(padding_len) * padding_len\n",
        "        elif style == \"x923\":\n",
        "            padding = bchr(0) * (padding_len - 1) + bchr(padding_len)\n",
        "        elif style == \"iso7816\":\n",
        "            padding = bchr(128) + bchr(0) * (padding_len - 1)\n",
        "        else:\n",
        "            raise ValueError(\"Unknown padding style\")\n",
        "        return data_to_pad + padding\n",
        "\n",
        "    def __hexParse(self, str_to_parse):\n",
        "        return binascii.a2b_hex(str_to_parse)\n",
        "\n",
        "    def __json_stringify(self, json_payload):\n",
        "        return json.dumps(json_payload, separators=(\",\", \":\")).encode()\n",
        "\n",
        "    def __getEncrypted(self, payload):\n",
        "        payload_json = self.__json_stringify(payload)\n",
        "        payload_padded = self.__pad(payload_json, AES.block_size, style=\"pkcs7\")\n",
        "        key1salt_hex = self.__hexParse(self.__tokens[\"key1salt\"])\n",
        "        key1iv_hex = self.__hexParse(self.__tokens[\"key1iv\"])\n",
        "        key1phrase = self.__tokens[\"key1phrase\"]\n",
        "\n",
        "        r = PBKDF2(key1phrase, key1salt_hex, count=10000)\n",
        "        cipher = AES.new(r, AES.MODE_CBC, key1iv_hex)\n",
        "        encrypted_payload = cipher.encrypt(payload_padded)\n",
        "        a = base64.b64encode(encrypted_payload)\n",
        "\n",
        "        return {\"message\": a.decode(), \"key1id\": self.__tokens[\"key1id\"]}\n",
        "\n",
        "    def __getDecrypted(self, message):\n",
        "        key2phrase = self.__tokens[\"key2phrase\"]\n",
        "        key2salt_hex = self.__hexParse(self.__tokens[\"key2salt\"])\n",
        "        key2iv_hex = self.__hexParse(self.__tokens[\"key2iv\"])\n",
        "        message_base64decoded = base64.b64decode(message)\n",
        "\n",
        "        n = PBKDF2(key2phrase, key2salt_hex, count=10000)\n",
        "        cipher = AES.new(n, AES.MODE_CBC, key2iv_hex)\n",
        "        i = cipher.decrypt(message_base64decoded)\n",
        "        i = i.decode(\"utf-8\")\n",
        "        i = \"\".join(c for c in i if c.isprintable())\n",
        "        return json.loads(i)"
      ],
      "execution_count": null,
      "outputs": []
    },
    {
      "cell_type": "markdown",
      "metadata": {
        "id": "KS6IKIwZTyep"
      },
      "source": [
        "# Usage"
      ]
    },
    {
      "cell_type": "code",
      "metadata": {
        "id": "cRiK9KVNSElY"
      },
      "source": [
        "arbitrary_network = {\n",
        "    \"id\": 311005007,\n",
        "    \"name\": \"DENTAL BLUE PPO\",\n",
        "    \"planIndicator\": False,\n",
        "}\n",
        "\n",
        "arbitrary_payload = {\n",
        "    \"geoLocation\": \"42.5562716,-72.5167854\",\n",
        "    \"limit\": 20,\n",
        "    \"page\": 1,\n",
        "    \"radius\": 25,\n",
        "    \"networkId\": arbitrary_network[\"id\"],\n",
        "    \"searchForTH\": False,\n",
        "    \"useridin\": \"undefined\",\n",
        "    \"fadVendorMemberNumber\": None,\n",
        "}"
      ],
      "execution_count": null,
      "outputs": []
    },
    {
      "cell_type": "code",
      "metadata": {
        "id": "SVoQf0kYT56z"
      },
      "source": [
        "with RequestsWrapperForBCBSMN() as rw:\n",
        "\n",
        "    resp = rw.post(\n",
        "        \"https://bcbsma-prod.apigee.net/member/web/v1/vitalscommon/searchbyproviders\",\n",
        "        json=arbitrary_payload,\n",
        "    )\n",
        "    print(json.dumps(resp, indent=4))"
      ],
      "execution_count": null,
      "outputs": []
    }
  ]
}